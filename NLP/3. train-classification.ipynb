{
 "cells": [
  {
   "cell_type": "code",
   "execution_count": null,
   "metadata": {},
   "outputs": [],
   "source": [
    "%pip install tensorflow matplotlib tensorflowjs[wizard]"
   ]
  },
  {
   "cell_type": "code",
   "execution_count": 1,
   "metadata": {},
   "outputs": [],
   "source": [
    "# Reference from https://www.tensorflow.org/tutorials/keras/text_classification\n",
    "import tensorflow as tf\n",
    "import tensorflowjs as tfjs\n",
    "import matplotlib.pyplot as plt\n",
    "\n",
    "from tensorflow import keras\n",
    "from keras import layers, utils, losses, optimizers"
   ]
  },
  {
   "cell_type": "code",
   "execution_count": 2,
   "metadata": {},
   "outputs": [],
   "source": [
    "max_features = 30000\n",
    "sequence_length = 128"
   ]
  },
  {
   "cell_type": "code",
   "execution_count": 3,
   "metadata": {},
   "outputs": [],
   "source": [
    "vocab_dataset = tf.data.TextLineDataset('./idwiki_vocab.txt').filter(lambda x: tf.cast(tf.strings.length(x), bool))"
   ]
  },
  {
   "cell_type": "code",
   "execution_count": 4,
   "metadata": {},
   "outputs": [],
   "source": [
    "vectorize_layer = layers.TextVectorization(\n",
    "    standardize='lower_and_strip_punctuation',\n",
    "    max_tokens=max_features,\n",
    "    output_mode='int',\n",
    "    output_sequence_length=sequence_length)\n",
    "vectorize_layer.adapt(vocab_dataset.batch(2048))"
   ]
  },
  {
   "cell_type": "code",
   "execution_count": 5,
   "metadata": {},
   "outputs": [
    {
     "data": {
      "text/plain": [
       "{'name': 'text_vectorization',\n",
       " 'trainable': True,\n",
       " 'batch_input_shape': (None,),\n",
       " 'dtype': 'string',\n",
       " 'max_tokens': 30000,\n",
       " 'standardize': 'lower_and_strip_punctuation',\n",
       " 'split': 'whitespace',\n",
       " 'ngrams': None,\n",
       " 'output_mode': 'int',\n",
       " 'output_sequence_length': 128,\n",
       " 'pad_to_max_tokens': False,\n",
       " 'sparse': False,\n",
       " 'ragged': False,\n",
       " 'vocabulary': None,\n",
       " 'idf_weights': None}"
      ]
     },
     "execution_count": 5,
     "metadata": {},
     "output_type": "execute_result"
    }
   ],
   "source": [
    "vectorize_layer.get_config()"
   ]
  },
  {
   "cell_type": "code",
   "execution_count": 6,
   "metadata": {},
   "outputs": [],
   "source": [
    "def vectorize_text(text, label):\n",
    "  text = tf.expand_dims(text, -1)\n",
    "  return vectorize_layer(text), label"
   ]
  },
  {
   "cell_type": "code",
   "execution_count": 196,
   "metadata": {},
   "outputs": [
    {
     "name": "stdout",
     "output_type": "stream",
     "text": [
      "Found 210 files belonging to 6 classes.\n",
      "Using 198 files for training.\n",
      "Found 210 files belonging to 6 classes.\n",
      "Using 12 files for validation.\n"
     ]
    }
   ],
   "source": [
    "seed = 44\n",
    "raw_train_dataset = utils.text_dataset_from_directory(\n",
    "    './dataset/', \n",
    "    validation_split=0.061,\n",
    "    label_mode='categorical',\n",
    "    subset='training',\n",
    "    seed=seed)\n",
    "raw_validation_dataset = utils.text_dataset_from_directory(\n",
    "    './dataset/', \n",
    "    validation_split=0.061,\n",
    "    label_mode='categorical',\n",
    "    subset='validation',\n",
    "    seed=seed)"
   ]
  },
  {
   "cell_type": "code",
   "execution_count": 197,
   "metadata": {},
   "outputs": [
    {
     "name": "stdout",
     "output_type": "stream",
     "text": [
      "Review b'Saya ingin mengunduh video dari Instagram dan menyimpannya di perangkat saya. Bagaimana caranya di bot ini?'\n",
      "Label [1. 0. 0. 0. 0. 0.]\n",
      "Vectorized review (<tf.Tensor: shape=(1, 128), dtype=int64, numpy=\n",
      "array([[  914,   701, 19118,   326,     6,  4695,     2, 28367,     4,\n",
      "          795,   914,  1415, 12105,     4, 13694,     8,     0,     0,\n",
      "            0,     0,     0,     0,     0,     0,     0,     0,     0,\n",
      "            0,     0,     0,     0,     0,     0,     0,     0,     0,\n",
      "            0,     0,     0,     0,     0,     0,     0,     0,     0,\n",
      "            0,     0,     0,     0,     0,     0,     0,     0,     0,\n",
      "            0,     0,     0,     0,     0,     0,     0,     0,     0,\n",
      "            0,     0,     0,     0,     0,     0,     0,     0,     0,\n",
      "            0,     0,     0,     0,     0,     0,     0,     0,     0,\n",
      "            0,     0,     0,     0,     0,     0,     0,     0,     0,\n",
      "            0,     0,     0,     0,     0,     0,     0,     0,     0,\n",
      "            0,     0,     0,     0,     0,     0,     0,     0,     0,\n",
      "            0,     0,     0,     0,     0,     0,     0,     0,     0,\n",
      "            0,     0,     0,     0,     0,     0,     0,     0,     0,\n",
      "            0,     0]], dtype=int64)>, array([1., 0., 0., 0., 0., 0.], dtype=float32))\n",
      "Review b'unduhkan saya sebuah video dari instagram'\n",
      "Label [1. 0. 0. 0. 0. 0.]\n",
      "Vectorized review (<tf.Tensor: shape=(1, 128), dtype=int64, numpy=\n",
      "array([[   1,  914,   31,  326,    6, 4695,    0,    0,    0,    0,    0,\n",
      "           0,    0,    0,    0,    0,    0,    0,    0,    0,    0,    0,\n",
      "           0,    0,    0,    0,    0,    0,    0,    0,    0,    0,    0,\n",
      "           0,    0,    0,    0,    0,    0,    0,    0,    0,    0,    0,\n",
      "           0,    0,    0,    0,    0,    0,    0,    0,    0,    0,    0,\n",
      "           0,    0,    0,    0,    0,    0,    0,    0,    0,    0,    0,\n",
      "           0,    0,    0,    0,    0,    0,    0,    0,    0,    0,    0,\n",
      "           0,    0,    0,    0,    0,    0,    0,    0,    0,    0,    0,\n",
      "           0,    0,    0,    0,    0,    0,    0,    0,    0,    0,    0,\n",
      "           0,    0,    0,    0,    0,    0,    0,    0,    0,    0,    0,\n",
      "           0,    0,    0,    0,    0,    0,    0,    0,    0,    0,    0,\n",
      "           0,    0,    0,    0,    0,    0,    0]], dtype=int64)>, array([1., 0., 0., 0., 0., 0.], dtype=float32))\n",
      "Review b'saya membutuhkan bantuan dari owner anda tentang bot ini'\n",
      "Label [0. 1. 0. 0. 0. 0.]\n",
      "Vectorized review (<tf.Tensor: shape=(1, 128), dtype=int64, numpy=\n",
      "array([[  914,  1816,   934,     6, 20074,  1712,   146, 13694,     8,\n",
      "            0,     0,     0,     0,     0,     0,     0,     0,     0,\n",
      "            0,     0,     0,     0,     0,     0,     0,     0,     0,\n",
      "            0,     0,     0,     0,     0,     0,     0,     0,     0,\n",
      "            0,     0,     0,     0,     0,     0,     0,     0,     0,\n",
      "            0,     0,     0,     0,     0,     0,     0,     0,     0,\n",
      "            0,     0,     0,     0,     0,     0,     0,     0,     0,\n",
      "            0,     0,     0,     0,     0,     0,     0,     0,     0,\n",
      "            0,     0,     0,     0,     0,     0,     0,     0,     0,\n",
      "            0,     0,     0,     0,     0,     0,     0,     0,     0,\n",
      "            0,     0,     0,     0,     0,     0,     0,     0,     0,\n",
      "            0,     0,     0,     0,     0,     0,     0,     0,     0,\n",
      "            0,     0,     0,     0,     0,     0,     0,     0,     0,\n",
      "            0,     0,     0,     0,     0,     0,     0,     0,     0,\n",
      "            0,     0]], dtype=int64)>, array([0., 1., 0., 0., 0., 0.], dtype=float32))\n",
      "Review b'Maaf, saat ini beberapa fitur bot anda tidak berfungsi. saya memerlukan bantuan dari seorang owner'\n",
      "Label [0. 1. 0. 0. 0. 0.]\n",
      "Vectorized review (<tf.Tensor: shape=(1, 128), dtype=int64, numpy=\n",
      "array([[ 6075,    52,     8,    55,  1203, 13694,  1712,    20,  1553,\n",
      "          914,  2710,   934,     6,    47, 20074,     0,     0,     0,\n",
      "            0,     0,     0,     0,     0,     0,     0,     0,     0,\n",
      "            0,     0,     0,     0,     0,     0,     0,     0,     0,\n",
      "            0,     0,     0,     0,     0,     0,     0,     0,     0,\n",
      "            0,     0,     0,     0,     0,     0,     0,     0,     0,\n",
      "            0,     0,     0,     0,     0,     0,     0,     0,     0,\n",
      "            0,     0,     0,     0,     0,     0,     0,     0,     0,\n",
      "            0,     0,     0,     0,     0,     0,     0,     0,     0,\n",
      "            0,     0,     0,     0,     0,     0,     0,     0,     0,\n",
      "            0,     0,     0,     0,     0,     0,     0,     0,     0,\n",
      "            0,     0,     0,     0,     0,     0,     0,     0,     0,\n",
      "            0,     0,     0,     0,     0,     0,     0,     0,     0,\n",
      "            0,     0,     0,     0,     0,     0,     0,     0,     0,\n",
      "            0,     0]], dtype=int64)>, array([0., 1., 0., 0., 0., 0.], dtype=float32))\n",
      "Review b'Saya sudah mengirimkan gambar dan memberikan judul untuk stiker, tetapi belum menerima stiker yang saya inginkan. Apakah owner bisa membantu saya untuk menyelesaikan masalah ini? Terima kasih atas bantuan dan perhatian Anda!'\n",
      "Label [0. 1. 0. 0. 0. 0.]\n",
      "Vectorized review (<tf.Tensor: shape=(1, 128), dtype=int64, numpy=\n",
      "array([[  914,   218,  2788,   725,     2,   325,   395,     9, 19889,\n",
      "           80,   546,   470, 19889,     3,   914, 12629,  1541, 20074,\n",
      "          198,   654,   914,     9,  1201,   554,     8,  4831,  1928,\n",
      "           76,   934,     2,  1642,  1712,     0,     0,     0,     0,\n",
      "            0,     0,     0,     0,     0,     0,     0,     0,     0,\n",
      "            0,     0,     0,     0,     0,     0,     0,     0,     0,\n",
      "            0,     0,     0,     0,     0,     0,     0,     0,     0,\n",
      "            0,     0,     0,     0,     0,     0,     0,     0,     0,\n",
      "            0,     0,     0,     0,     0,     0,     0,     0,     0,\n",
      "            0,     0,     0,     0,     0,     0,     0,     0,     0,\n",
      "            0,     0,     0,     0,     0,     0,     0,     0,     0,\n",
      "            0,     0,     0,     0,     0,     0,     0,     0,     0,\n",
      "            0,     0,     0,     0,     0,     0,     0,     0,     0,\n",
      "            0,     0,     0,     0,     0,     0,     0,     0,     0,\n",
      "            0,     0]], dtype=int64)>, array([0., 1., 0., 0., 0., 0.], dtype=float32))\n",
      "Review b'Apakah saya bisa membuat stiker dengan bot ini?'\n",
      "Label [0. 0. 1. 0. 0. 0.]\n",
      "Vectorized review (<tf.Tensor: shape=(1, 128), dtype=int64, numpy=\n",
      "array([[ 1541,   914,   198,   176, 19889,     7, 13694,     8,     0,\n",
      "            0,     0,     0,     0,     0,     0,     0,     0,     0,\n",
      "            0,     0,     0,     0,     0,     0,     0,     0,     0,\n",
      "            0,     0,     0,     0,     0,     0,     0,     0,     0,\n",
      "            0,     0,     0,     0,     0,     0,     0,     0,     0,\n",
      "            0,     0,     0,     0,     0,     0,     0,     0,     0,\n",
      "            0,     0,     0,     0,     0,     0,     0,     0,     0,\n",
      "            0,     0,     0,     0,     0,     0,     0,     0,     0,\n",
      "            0,     0,     0,     0,     0,     0,     0,     0,     0,\n",
      "            0,     0,     0,     0,     0,     0,     0,     0,     0,\n",
      "            0,     0,     0,     0,     0,     0,     0,     0,     0,\n",
      "            0,     0,     0,     0,     0,     0,     0,     0,     0,\n",
      "            0,     0,     0,     0,     0,     0,     0,     0,     0,\n",
      "            0,     0,     0,     0,     0,     0,     0,     0,     0,\n",
      "            0,     0]], dtype=int64)>, array([0., 0., 1., 0., 0., 0.], dtype=float32))\n",
      "Review b'Bagaimana saya dapat menghubungi owner bot ini untuk mendapatkan bantuan atau layanan khusus?'\n",
      "Label [0. 1. 0. 0. 0. 0.]\n",
      "Vectorized review (<tf.Tensor: shape=(1, 128), dtype=int64, numpy=\n",
      "array([[ 1415,   914,    33,  9392, 20074, 13694,     8,     9,   379,\n",
      "          934,    23,   668,   402,     0,     0,     0,     0,     0,\n",
      "            0,     0,     0,     0,     0,     0,     0,     0,     0,\n",
      "            0,     0,     0,     0,     0,     0,     0,     0,     0,\n",
      "            0,     0,     0,     0,     0,     0,     0,     0,     0,\n",
      "            0,     0,     0,     0,     0,     0,     0,     0,     0,\n",
      "            0,     0,     0,     0,     0,     0,     0,     0,     0,\n",
      "            0,     0,     0,     0,     0,     0,     0,     0,     0,\n",
      "            0,     0,     0,     0,     0,     0,     0,     0,     0,\n",
      "            0,     0,     0,     0,     0,     0,     0,     0,     0,\n",
      "            0,     0,     0,     0,     0,     0,     0,     0,     0,\n",
      "            0,     0,     0,     0,     0,     0,     0,     0,     0,\n",
      "            0,     0,     0,     0,     0,     0,     0,     0,     0,\n",
      "            0,     0,     0,     0,     0,     0,     0,     0,     0,\n",
      "            0,     0]], dtype=int64)>, array([0., 1., 0., 0., 0., 0.], dtype=float32))\n",
      "Review b'Saya sering menonton video dari YouTube, tetapi saya ingin menyimpan video tersebut ke perangkat saya agar bisa menontonnya offline. Apakah layanan download video YouTube di bot ini bisa membantu saya?'\n",
      "Label [0. 0. 0. 0. 0. 1.]\n",
      "Vectorized review (<tf.Tensor: shape=(1, 128), dtype=int64, numpy=\n",
      "array([[  914,   288,  5638,   326,     6,  1758,    80,   914,   701,\n",
      "         2894,   326,    28,    17,   795,   914,   447,   198,     1,\n",
      "        23324,  1541,   668,  3793,   326,  1758,     4, 13694,     8,\n",
      "          198,   654,   914,     0,     0,     0,     0,     0,     0,\n",
      "            0,     0,     0,     0,     0,     0,     0,     0,     0,\n",
      "            0,     0,     0,     0,     0,     0,     0,     0,     0,\n",
      "            0,     0,     0,     0,     0,     0,     0,     0,     0,\n",
      "            0,     0,     0,     0,     0,     0,     0,     0,     0,\n",
      "            0,     0,     0,     0,     0,     0,     0,     0,     0,\n",
      "            0,     0,     0,     0,     0,     0,     0,     0,     0,\n",
      "            0,     0,     0,     0,     0,     0,     0,     0,     0,\n",
      "            0,     0,     0,     0,     0,     0,     0,     0,     0,\n",
      "            0,     0,     0,     0,     0,     0,     0,     0,     0,\n",
      "            0,     0,     0,     0,     0,     0,     0,     0,     0,\n",
      "            0,     0]], dtype=int64)>, array([0., 0., 0., 0., 0., 1.], dtype=float32))\n",
      "Review b'tunjukkan siapa owner anda'\n",
      "Label [0. 1. 0. 0. 0. 0.]\n",
      "Vectorized review (<tf.Tensor: shape=(1, 128), dtype=int64, numpy=\n",
      "array([[    1,  1930, 20074,  1712,     0,     0,     0,     0,     0,\n",
      "            0,     0,     0,     0,     0,     0,     0,     0,     0,\n",
      "            0,     0,     0,     0,     0,     0,     0,     0,     0,\n",
      "            0,     0,     0,     0,     0,     0,     0,     0,     0,\n",
      "            0,     0,     0,     0,     0,     0,     0,     0,     0,\n",
      "            0,     0,     0,     0,     0,     0,     0,     0,     0,\n",
      "            0,     0,     0,     0,     0,     0,     0,     0,     0,\n",
      "            0,     0,     0,     0,     0,     0,     0,     0,     0,\n",
      "            0,     0,     0,     0,     0,     0,     0,     0,     0,\n",
      "            0,     0,     0,     0,     0,     0,     0,     0,     0,\n",
      "            0,     0,     0,     0,     0,     0,     0,     0,     0,\n",
      "            0,     0,     0,     0,     0,     0,     0,     0,     0,\n",
      "            0,     0,     0,     0,     0,     0,     0,     0,     0,\n",
      "            0,     0,     0,     0,     0,     0,     0,     0,     0,\n",
      "            0,     0]], dtype=int64)>, array([0., 1., 0., 0., 0., 0.], dtype=float32))\n",
      "Review b'Apakah owner bot ini menyediakan layanan pengoptimalan performa atau peningkatan fitur bot yang sudah ada?'\n",
      "Label [0. 1. 0. 0. 0. 0.]\n",
      "Vectorized review (<tf.Tensor: shape=(1, 128), dtype=int64, numpy=\n",
      "array([[ 1541, 20074, 13694,     8,  1286,   668,     1,  5985,    23,\n",
      "         1337,  1203, 13694,     3,   218,    62,     0,     0,     0,\n",
      "            0,     0,     0,     0,     0,     0,     0,     0,     0,\n",
      "            0,     0,     0,     0,     0,     0,     0,     0,     0,\n",
      "            0,     0,     0,     0,     0,     0,     0,     0,     0,\n",
      "            0,     0,     0,     0,     0,     0,     0,     0,     0,\n",
      "            0,     0,     0,     0,     0,     0,     0,     0,     0,\n",
      "            0,     0,     0,     0,     0,     0,     0,     0,     0,\n",
      "            0,     0,     0,     0,     0,     0,     0,     0,     0,\n",
      "            0,     0,     0,     0,     0,     0,     0,     0,     0,\n",
      "            0,     0,     0,     0,     0,     0,     0,     0,     0,\n",
      "            0,     0,     0,     0,     0,     0,     0,     0,     0,\n",
      "            0,     0,     0,     0,     0,     0,     0,     0,     0,\n",
      "            0,     0,     0,     0,     0,     0,     0,     0,     0,\n",
      "            0,     0]], dtype=int64)>, array([0., 1., 0., 0., 0., 0.], dtype=float32))\n"
     ]
    }
   ],
   "source": [
    "for text_batch, label_batch in raw_train_dataset.take(1):\n",
    "  for i in range(10):\n",
    "    print(\"Review\", text_batch.numpy()[i])\n",
    "    print(\"Label\", label_batch.numpy()[i])\n",
    "    print(\"Vectorized review\", vectorize_text(text_batch.numpy()[i], label_batch.numpy()[i]))"
   ]
  },
  {
   "cell_type": "code",
   "execution_count": 198,
   "metadata": {},
   "outputs": [],
   "source": [
    "class_name = raw_train_dataset.class_names"
   ]
  },
  {
   "cell_type": "code",
   "execution_count": 199,
   "metadata": {},
   "outputs": [
    {
     "data": {
      "text/plain": [
       "['instagram', 'owner', 'sticker', 'tiktok', 'twitter', 'youtube']"
      ]
     },
     "execution_count": 199,
     "metadata": {},
     "output_type": "execute_result"
    }
   ],
   "source": [
    "class_name"
   ]
  },
  {
   "cell_type": "code",
   "execution_count": 200,
   "metadata": {},
   "outputs": [],
   "source": [
    "# text_batch, label_batch = next(iter(raw_train_dataset))\n",
    "# first_review, first_label = text_batch[0], label_batch[0]\n",
    "# label_as_list = first_label.numpy().tolist()\n",
    "# print(\"Review\", first_review)\n",
    "# print(\"Label\", class_name[label_as_list.index(max(label_as_list))])\n",
    "# print(\"Vectorized review\", vectorize_text(first_review, first_label))"
   ]
  },
  {
   "cell_type": "code",
   "execution_count": 201,
   "metadata": {},
   "outputs": [],
   "source": [
    "train_dataset = raw_train_dataset.map(vectorize_text)\n",
    "validation_dataset = raw_validation_dataset.map(vectorize_text)\n"
   ]
  },
  {
   "cell_type": "code",
   "execution_count": 202,
   "metadata": {},
   "outputs": [],
   "source": [
    "train_dataset = train_dataset.cache().prefetch(buffer_size=tf.data.AUTOTUNE)\n",
    "validation_dataset = validation_dataset.cache().prefetch(buffer_size=tf.data.AUTOTUNE)"
   ]
  },
  {
   "cell_type": "code",
   "execution_count": 203,
   "metadata": {},
   "outputs": [
    {
     "name": "stdout",
     "output_type": "stream",
     "text": [
      "Model: \"sequential_22\"\n",
      "_________________________________________________________________\n",
      " Layer (type)                Output Shape              Param #   \n",
      "=================================================================\n",
      " embedding_12 (Embedding)    (None, None, 64)          1920064   \n",
      "                                                                 \n",
      " dropout_23 (Dropout)        (None, None, 64)          0         \n",
      "                                                                 \n",
      " bidirectional_24 (Bidirecti  (None, None, 128)        66048     \n",
      " onal)                                                           \n",
      "                                                                 \n",
      " bidirectional_25 (Bidirecti  (None, 64)               41216     \n",
      " onal)                                                           \n",
      "                                                                 \n",
      " dense_24 (Dense)            (None, 64)                4160      \n",
      "                                                                 \n",
      " dropout_24 (Dropout)        (None, 64)                0         \n",
      "                                                                 \n",
      " dense_25 (Dense)            (None, 6)                 390       \n",
      "                                                                 \n",
      "=================================================================\n",
      "Total params: 2,031,878\n",
      "Trainable params: 2,031,878\n",
      "Non-trainable params: 0\n",
      "_________________________________________________________________\n"
     ]
    }
   ],
   "source": [
    "model = tf.keras.Sequential([\n",
    "    layers.Embedding(max_features + 1, 64, mask_zero=True),\n",
    "    layers.Dropout(0.1),\n",
    "    layers.Bidirectional(layers.LSTM(64, return_sequences=True)),\n",
    "    layers.Bidirectional(layers.LSTM(32)),\n",
    "    layers.Dense(64, activation='relu'),\n",
    "    layers.Dropout(0.5),\n",
    "    layers.Dense(len(class_name), activation='softmax')\n",
    "])\n",
    "model.compile(loss=losses.CategoricalCrossentropy(),\n",
    "              optimizer=optimizers.Adam(),\n",
    "              metrics=['accuracy'])\n",
    "model.summary()\n"
   ]
  },
  {
   "cell_type": "code",
   "execution_count": 204,
   "metadata": {},
   "outputs": [
    {
     "name": "stdout",
     "output_type": "stream",
     "text": [
      "You must install pydot (`pip install pydot`) and install graphviz (see instructions at https://graphviz.gitlab.io/download/) for plot_model/model_to_dot to work.\n"
     ]
    }
   ],
   "source": [
    "utils.plot_model(model, show_shapes=True, dpi=48)"
   ]
  },
  {
   "cell_type": "code",
   "execution_count": 205,
   "metadata": {},
   "outputs": [
    {
     "name": "stdout",
     "output_type": "stream",
     "text": [
      "Epoch 1/20\n",
      "7/7 [==============================] - 23s 867ms/step - loss: 1.7922 - accuracy: 0.1162 - val_loss: 1.7849 - val_accuracy: 0.1667\n",
      "Epoch 2/20\n",
      "7/7 [==============================] - 1s 132ms/step - loss: 1.7831 - accuracy: 0.2172 - val_loss: 1.7728 - val_accuracy: 0.4167\n",
      "Epoch 3/20\n",
      "7/7 [==============================] - 1s 127ms/step - loss: 1.7615 - accuracy: 0.3283 - val_loss: 1.7311 - val_accuracy: 0.5833\n",
      "Epoch 4/20\n",
      "7/7 [==============================] - 1s 153ms/step - loss: 1.7008 - accuracy: 0.3788 - val_loss: 1.6166 - val_accuracy: 0.4167\n",
      "Epoch 5/20\n",
      "7/7 [==============================] - 1s 130ms/step - loss: 1.5729 - accuracy: 0.3687 - val_loss: 1.4141 - val_accuracy: 0.6667\n",
      "Epoch 6/20\n",
      "7/7 [==============================] - 1s 119ms/step - loss: 1.3336 - accuracy: 0.4495 - val_loss: 1.1238 - val_accuracy: 0.8333\n",
      "Epoch 7/20\n",
      "7/7 [==============================] - 1s 114ms/step - loss: 1.1373 - accuracy: 0.5909 - val_loss: 0.8705 - val_accuracy: 0.8333\n",
      "Epoch 8/20\n",
      "7/7 [==============================] - 1s 113ms/step - loss: 0.8355 - accuracy: 0.7424 - val_loss: 0.6388 - val_accuracy: 0.8333\n",
      "Epoch 9/20\n",
      "7/7 [==============================] - 1s 116ms/step - loss: 0.6957 - accuracy: 0.7980 - val_loss: 0.4968 - val_accuracy: 0.8333\n",
      "Epoch 10/20\n",
      "7/7 [==============================] - 1s 120ms/step - loss: 0.5875 - accuracy: 0.8131 - val_loss: 0.7030 - val_accuracy: 0.7500\n",
      "Epoch 11/20\n",
      "7/7 [==============================] - 1s 125ms/step - loss: 0.4844 - accuracy: 0.8586 - val_loss: 0.3118 - val_accuracy: 1.0000\n",
      "Epoch 12/20\n",
      "7/7 [==============================] - 1s 122ms/step - loss: 0.4085 - accuracy: 0.8889 - val_loss: 0.1779 - val_accuracy: 1.0000\n",
      "Epoch 13/20\n",
      "7/7 [==============================] - 1s 110ms/step - loss: 0.3148 - accuracy: 0.9293 - val_loss: 0.1573 - val_accuracy: 1.0000\n",
      "Epoch 14/20\n",
      "7/7 [==============================] - 1s 112ms/step - loss: 0.2751 - accuracy: 0.9293 - val_loss: 0.1938 - val_accuracy: 0.9167\n",
      "Epoch 15/20\n",
      "7/7 [==============================] - 1s 118ms/step - loss: 0.2814 - accuracy: 0.9192 - val_loss: 0.1176 - val_accuracy: 1.0000\n",
      "Epoch 16/20\n",
      "7/7 [==============================] - 1s 114ms/step - loss: 0.1899 - accuracy: 0.9596 - val_loss: 0.0803 - val_accuracy: 1.0000\n",
      "Epoch 17/20\n",
      "7/7 [==============================] - 1s 123ms/step - loss: 0.1643 - accuracy: 0.9747 - val_loss: 0.0589 - val_accuracy: 1.0000\n",
      "Epoch 18/20\n",
      "7/7 [==============================] - 1s 121ms/step - loss: 0.0990 - accuracy: 1.0000 - val_loss: 0.0622 - val_accuracy: 1.0000\n",
      "Epoch 19/20\n",
      "7/7 [==============================] - 1s 113ms/step - loss: 0.0871 - accuracy: 0.9798 - val_loss: 0.0366 - val_accuracy: 1.0000\n",
      "Epoch 20/20\n",
      "7/7 [==============================] - 1s 115ms/step - loss: 0.0804 - accuracy: 0.9848 - val_loss: 0.0367 - val_accuracy: 1.0000\n"
     ]
    }
   ],
   "source": [
    "epochs = 20\n",
    "\n",
    "history = model.fit(\n",
    "    train_dataset,\n",
    "    validation_data=validation_dataset,\n",
    "    epochs=epochs)"
   ]
  },
  {
   "cell_type": "code",
   "execution_count": 206,
   "metadata": {},
   "outputs": [
    {
     "data": {
      "text/plain": [
       "dict_keys(['loss', 'accuracy', 'val_loss', 'val_accuracy'])"
      ]
     },
     "execution_count": 206,
     "metadata": {},
     "output_type": "execute_result"
    }
   ],
   "source": [
    "history_dict = history.history\n",
    "history_dict.keys()"
   ]
  },
  {
   "cell_type": "code",
   "execution_count": 207,
   "metadata": {},
   "outputs": [
    {
     "data": {
      "image/png": "[encoded data removed]",
      "text/plain": [
       "<Figure size 640x480 with 1 Axes>"
      ]
     },
     "metadata": {},
     "output_type": "display_data"
    }
   ],
   "source": [
    "acc = history_dict['accuracy']\n",
    "val_acc = history_dict['val_accuracy']\n",
    "loss = history_dict['loss']\n",
    "val_loss = history_dict['val_loss']\n",
    "\n",
    "epochs = range(1, len(acc) + 1)\n",
    "\n",
    "# \"bo\" is for \"blue dot\"\n",
    "plt.plot(epochs, loss, 'bo', label='Training loss')\n",
    "# b is for \"solid blue line\"\n",
    "plt.plot(epochs, val_loss, 'b', label='Validation loss')\n",
    "plt.title('Training loss')\n",
    "plt.xlabel('Epochs')\n",
    "plt.ylabel('Loss')\n",
    "plt.legend()\n",
    "\n",
    "plt.show()"
   ]
  },
  {
   "cell_type": "code",
   "execution_count": 208,
   "metadata": {},
   "outputs": [
    {
     "data": {
      "image/png": "[encoded data removed]",
      "text/plain": [
       "<Figure size 640x480 with 1 Axes>"
      ]
     },
     "metadata": {},
     "output_type": "display_data"
    }
   ],
   "source": [
    "plt.plot(epochs, acc, 'bo', label='Training acc')\n",
    "plt.plot(epochs, val_acc, 'b', label='Validation acc')\n",
    "plt.title('Training accuracy')\n",
    "plt.xlabel('Epochs')\n",
    "plt.ylabel('Accuracy')\n",
    "plt.legend(loc='lower right')\n",
    "\n",
    "plt.show()"
   ]
  },
  {
   "cell_type": "code",
   "execution_count": 209,
   "metadata": {},
   "outputs": [],
   "source": [
    "export_model = tf.keras.Sequential([\n",
    "    vectorize_layer,\n",
    "    model\n",
    "])\n",
    "\n",
    "export_model.compile(\n",
    "    loss=losses.CategoricalCrossentropy(),\n",
    "    optimizer=optimizers.Adam(),\n",
    "    metrics=['accuracy'])\n"
   ]
  },
  {
   "cell_type": "code",
   "execution_count": 213,
   "metadata": {},
   "outputs": [
    {
     "name": "stderr",
     "output_type": "stream",
     "text": [
      "WARNING:absl:Found untraced functions such as lstm_cell_73_layer_call_fn, lstm_cell_73_layer_call_and_return_conditional_losses, lstm_cell_74_layer_call_fn, lstm_cell_74_layer_call_and_return_conditional_losses, lstm_cell_76_layer_call_fn while saving (showing 5 of 8). These functions will not be directly callable after loading.\n"
     ]
    },
    {
     "name": "stdout",
     "output_type": "stream",
     "text": [
      "INFO:tensorflow:Assets written to: ./model\\assets\n"
     ]
    },
    {
     "name": "stderr",
     "output_type": "stream",
     "text": [
      "INFO:tensorflow:Assets written to: ./model\\assets\n"
     ]
    }
   ],
   "source": [
    "model.save(\"./model\")"
   ]
  },
  {
   "cell_type": "code",
   "execution_count": 214,
   "metadata": {},
   "outputs": [],
   "source": [
    "tfjs.converters.save_keras_model(model,\n",
    "                                 \"./model-tfjs/\")\n"
   ]
  },
  {
   "cell_type": "code",
   "execution_count": 212,
   "metadata": {},
   "outputs": [
    {
     "name": "stdout",
     "output_type": "stream",
     "text": [
      "1/1 [==============================] - 4s 4s/step\n",
      "Input: ubah foto tersebut menjadi stiker\n",
      "Prediction: [9.9314852e-03 4.5262352e-03 9.8081779e-01 3.0898494e-03 8.8556658e-04\n",
      " 7.4896077e-04]\n",
      "Predicted label: sticker : 0.9808178\n",
      "\n",
      "Input: download sebuah video dari youtube\n",
      "Prediction: [0.00852365 0.00956021 0.00211257 0.05286557 0.13509779 0.7918402 ]\n",
      "Predicted label: youtube : 0.7918402\n",
      "\n",
      "Input: bisakah kamu mengubah foto di atas menjadi sticker?\n",
      "Prediction: [5.1159048e-03 1.7809017e-03 9.9201363e-01 8.1031601e-04 1.3802289e-04\n",
      " 1.4112754e-04]\n",
      "Predicted label: sticker : 0.99201363\n",
      "\n",
      "Input: dapatkah saya berbicara dengan owner anda untuk meminta bantuan?\n",
      "Prediction: [2.1146908e-03 9.9464685e-01 1.3551405e-03 5.5049284e-05 1.5782056e-05\n",
      " 1.8124613e-03]\n",
      "Predicted label: owner : 0.99464685\n",
      "\n",
      "Input: download video dari instagram\n",
      "Prediction: [0.8207323  0.04137225 0.05571517 0.074838   0.0035876  0.00375473]\n",
      "Predicted label: instagram : 0.8207323\n",
      "\n",
      "Input: unduhkan saya sebuah video dari tiktok\n",
      "Prediction: [5.7337578e-02 3.0152436e-04 6.5794127e-04 8.8009578e-01 5.8031090e-02\n",
      " 3.5761362e-03]\n",
      "Predicted label: tiktok : 0.8800958\n",
      "\n",
      "Input: saya mempunyai link video twitter, download video twitter tersebut\n",
      "Prediction: [2.6262807e-05 8.8708339e-07 1.6657674e-06 2.5191207e-03 9.9638712e-01\n",
      " 1.0649334e-03]\n",
      "Predicted label: twitter : 0.9963871\n",
      "\n"
     ]
    }
   ],
   "source": [
    "example = [\n",
    "    \"ubah foto tersebut menjadi stiker\",\n",
    "    \"download sebuah video dari youtube\",\n",
    "    \"bisakah kamu mengubah foto di atas menjadi sticker?\",\n",
    "    \"dapatkah saya berbicara dengan owner anda untuk meminta bantuan?\",\n",
    "    \"download video dari instagram\",\n",
    "    \"unduhkan saya sebuah video dari tiktok\",\n",
    "    \"saya mempunyai link video twitter, download video twitter tersebut\"\n",
    "]\n",
    "predicted = export_model.predict(example)\n",
    "\n",
    "for pred in predicted:\n",
    "    index = predicted.tolist().index(pred.tolist())\n",
    "    score = max(pred)\n",
    "    higest_index = pred.tolist().index(score)\n",
    "    print(\"Input:\", example[index])\n",
    "    print(\"Prediction:\", pred)\n",
    "    print(\"Predicted label:\", class_name[higest_index], \":\", score)\n",
    "    print(\"\")"
   ]
  }
 ],
 "metadata": {
  "kernelspec": {
   "display_name": "Python 3",
   "language": "python",
   "name": "python3"
  },
  "language_info": {
   "codemirror_mode": {
    "name": "ipython",
    "version": 3
   },
   "file_extension": ".py",
   "mimetype": "text/x-python",
   "name": "python",
   "nbconvert_exporter": "python",
   "pygments_lexer": "ipython3",
   "version": "3.10.11"
  },
  "orig_nbformat": 4
 },
 "nbformat": 4,
 "nbformat_minor": 2
}
